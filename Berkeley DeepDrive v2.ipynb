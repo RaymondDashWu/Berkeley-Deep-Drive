{
 "cells": [
  {
   "cell_type": "code",
   "execution_count": 1,
   "metadata": {},
   "outputs": [],
   "source": [
    "%matplotlib inline\n",
    "%reload_ext autoreload\n",
    "%autoreload 2"
   ]
  },
  {
   "cell_type": "code",
   "execution_count": 2,
   "metadata": {},
   "outputs": [],
   "source": [
    "import torchvision\n",
    "from fastai.text import *\n"
   ]
  },
  {
   "cell_type": "code",
   "execution_count": 3,
   "metadata": {},
   "outputs": [
    {
     "name": "stdout",
     "output_type": "stream",
     "text": [
      "1.0.39\n",
      "<module 'fastai' from '/home/ray/anaconda3/envs/fastai-please-work/lib/python3.6/site-packages/fastai/__init__.py'>\n"
     ]
    }
   ],
   "source": [
    "import fastai, sys\n",
    "print(fastai.__version__)\n",
    "print(sys.modules['fastai'])"
   ]
  },
  {
   "cell_type": "code",
   "execution_count": 4,
   "metadata": {},
   "outputs": [],
   "source": [
    "import sys\n",
    "sys.path.insert(0, '/home/ray/anaconda3/envs/fastai-please-work/lib/python3.6/site-packages/')\n",
    "import fastai.vision"
   ]
  },
  {
   "cell_type": "code",
   "execution_count": 5,
   "metadata": {},
   "outputs": [
    {
     "name": "stdout",
     "output_type": "stream",
     "text": [
      "['/home/ray/anaconda3/envs/fastai-please-work/lib/python3.6/site-packages/', '', '/home/ray/anaconda3/envs/fastai-please-work/lib/python36.zip', '/home/ray/anaconda3/envs/fastai-please-work/lib/python3.6', '/home/ray/anaconda3/envs/fastai-please-work/lib/python3.6/lib-dynload', '/home/ray/anaconda3/envs/fastai-please-work/lib/python3.6/site-packages', '/home/ray/anaconda3/envs/fastai-please-work/lib/python3.6/site-packages/IPython/extensions', '/home/ray/.ipython']\n"
     ]
    }
   ],
   "source": [
    "import sys\n",
    "print(sys.path)"
   ]
  },
  {
   "cell_type": "code",
   "execution_count": 6,
   "metadata": {},
   "outputs": [],
   "source": [
    "import sys\n",
    "sys.path.insert(0, '/home/ray/anaconda3/envs/fastai/lib/python3.6/site-packages/')\n",
    "import fastai.vision"
   ]
  },
  {
   "cell_type": "code",
   "execution_count": 7,
   "metadata": {},
   "outputs": [
    {
     "name": "stdout",
     "output_type": "stream",
     "text": [
      "\n",
      "\n",
      "```text\n",
      "=== Software === \n",
      "python        : 3.6.8\n",
      "fastai        : 1.0.39\n",
      "fastprogress  : 0.1.18\n",
      "torch         : 1.0.0\n",
      "nvidia driver : 396.44\n",
      "torch cuda    : 9.0.176 / is available\n",
      "torch cudnn   : 7401 / is enabled\n",
      "\n",
      "=== Hardware === \n",
      "nvidia gpus   : 1\n",
      "torch devices : 1\n",
      "  - gpu0      : 8117MB | GeForce GTX 1070\n",
      "\n",
      "=== Environment === \n",
      "platform      : Linux-4.4.0-21-generic-x86_64-with-debian-stretch-sid\n",
      "distro        : #37-Ubuntu SMP Mon Apr 18 18:33:37 UTC 2016\n",
      "conda env     : Unknown\n",
      "python        : /home/ray/anaconda3/envs/fastai-please-work/bin/python\n",
      "sys.path      : /home/ray/anaconda3/envs/fastai/lib/python3.6/site-packages/\n",
      "/home/ray/anaconda3/envs/fastai-please-work/lib/python3.6/site-packages/\n",
      "\n",
      "/home/ray/anaconda3/envs/fastai-please-work/lib/python36.zip\n",
      "/home/ray/anaconda3/envs/fastai-please-work/lib/python3.6\n",
      "/home/ray/anaconda3/envs/fastai-please-work/lib/python3.6/lib-dynload\n",
      "/home/ray/anaconda3/envs/fastai-please-work/lib/python3.6/site-packages\n",
      "/home/ray/anaconda3/envs/fastai-please-work/lib/python3.6/site-packages/IPython/extensions\n",
      "/home/ray/.ipython\n",
      "\n",
      "Thu Jan 10 09:52:24 2019       \n",
      "+-----------------------------------------------------------------------------+\n",
      "| NVIDIA-SMI 396.44                 Driver Version: 396.44                    |\n",
      "|-------------------------------+----------------------+----------------------+\n",
      "| GPU  Name        Persistence-M| Bus-Id        Disp.A | Volatile Uncorr. ECC |\n",
      "| Fan  Temp  Perf  Pwr:Usage/Cap|         Memory-Usage | GPU-Util  Compute M. |\n",
      "|===============================+======================+======================|\n",
      "|   0  GeForce GTX 1070    Off  | 00000000:01:00.0 Off |                  N/A |\n",
      "|  0%   40C    P8    12W / 151W |     10MiB /  8117MiB |      0%      Default |\n",
      "+-------------------------------+----------------------+----------------------+\n",
      "                                                                               \n",
      "+-----------------------------------------------------------------------------+\n",
      "| Processes:                                                       GPU Memory |\n",
      "|  GPU       PID   Type   Process name                             Usage      |\n",
      "|=============================================================================|\n",
      "|  No running processes found                                                 |\n",
      "+-----------------------------------------------------------------------------+\n",
      "\n",
      "```\n",
      "\n",
      "Please make sure to include opening/closing ``` when you paste into forums/github to make the reports appear formatted as code sections.\n",
      "\n",
      "Optional package(s) to enhance the diagnostics can be installed with:\n",
      "pip install distro\n",
      "Once installed, re-run this utility to get the additional information\n"
     ]
    }
   ],
   "source": [
    "import fastai.utils.collect_env; fastai.utils.collect_env.show_install(1)"
   ]
  },
  {
   "cell_type": "code",
   "execution_count": 8,
   "metadata": {},
   "outputs": [
    {
     "name": "stdout",
     "output_type": "stream",
     "text": [
      "\n",
      "\n",
      "```text\n",
      "=== Software === \n",
      "python        : 3.6.8\n",
      "fastai        : 1.0.39\n",
      "fastprogress  : 0.1.18\n",
      "torch         : 1.0.0\n",
      "nvidia driver : 396.44\n",
      "torch cuda    : 9.0.176 / is available\n",
      "torch cudnn   : 7401 / is enabled\n",
      "\n",
      "=== Hardware === \n",
      "nvidia gpus   : 1\n",
      "torch devices : 1\n",
      "  - gpu0      : 8117MB | GeForce GTX 1070\n",
      "\n",
      "=== Environment === \n",
      "platform      : Linux-4.4.0-21-generic-x86_64-with-debian-stretch-sid\n",
      "distro        : #37-Ubuntu SMP Mon Apr 18 18:33:37 UTC 2016\n",
      "conda env     : Unknown\n",
      "python        : /home/ray/anaconda3/envs/fastai-please-work/bin/python\n",
      "sys.path      : /home/ray/anaconda3/envs/fastai/lib/python3.6/site-packages/\n",
      "/home/ray/anaconda3/envs/fastai-please-work/lib/python3.6/site-packages/\n",
      "\n",
      "/home/ray/anaconda3/envs/fastai-please-work/lib/python36.zip\n",
      "/home/ray/anaconda3/envs/fastai-please-work/lib/python3.6\n",
      "/home/ray/anaconda3/envs/fastai-please-work/lib/python3.6/lib-dynload\n",
      "/home/ray/anaconda3/envs/fastai-please-work/lib/python3.6/site-packages\n",
      "/home/ray/anaconda3/envs/fastai-please-work/lib/python3.6/site-packages/IPython/extensions\n",
      "/home/ray/.ipython\n",
      "```\n",
      "\n",
      "Please make sure to include opening/closing ``` when you paste into forums/github to make the reports appear formatted as code sections.\n",
      "\n",
      "Optional package(s) to enhance the diagnostics can be installed with:\n",
      "pip install distro\n",
      "Once installed, re-run this utility to get the additional information\n"
     ]
    }
   ],
   "source": [
    "from fastai.utils.show_install import *\n",
    "show_install()"
   ]
  },
  {
   "cell_type": "code",
   "execution_count": 9,
   "metadata": {},
   "outputs": [],
   "source": [
    "from fastai.vision import *\n",
    "from fastai.callbacks.hooks import *\n",
    "torch.cuda.set_device(0)"
   ]
  },
  {
   "cell_type": "code",
   "execution_count": 10,
   "metadata": {},
   "outputs": [
    {
     "data": {
      "text/plain": [
       "True"
      ]
     },
     "execution_count": 10,
     "metadata": {},
     "output_type": "execute_result"
    }
   ],
   "source": [
    "torch.cuda.is_available()\n"
   ]
  },
  {
   "cell_type": "code",
   "execution_count": 11,
   "metadata": {},
   "outputs": [
    {
     "data": {
      "text/plain": [
       "True"
      ]
     },
     "execution_count": 11,
     "metadata": {},
     "output_type": "execute_result"
    }
   ],
   "source": [
    "torch.backends.cudnn.enabled\n"
   ]
  },
  {
   "cell_type": "code",
   "execution_count": 12,
   "metadata": {},
   "outputs": [
    {
     "ename": "NameError",
     "evalue": "name 'untar_data' is not defined",
     "output_type": "error",
     "traceback": [
      "\u001b[0;31m---------------------------------------------------------------------------\u001b[0m",
      "\u001b[0;31mNameError\u001b[0m                                 Traceback (most recent call last)",
      "\u001b[0;32m<ipython-input-12-b951f86e420e>\u001b[0m in \u001b[0;36m<module>\u001b[0;34m()\u001b[0m\n\u001b[0;32m----> 1\u001b[0;31m \u001b[0mpath\u001b[0m \u001b[0;34m=\u001b[0m \u001b[0muntar_data\u001b[0m\u001b[0;34m(\u001b[0m\u001b[0mURLs\u001b[0m\u001b[0;34m.\u001b[0m\u001b[0mCAMVID\u001b[0m\u001b[0;34m)\u001b[0m\u001b[0;34m\u001b[0m\u001b[0;34m\u001b[0m\u001b[0m\n\u001b[0m\u001b[1;32m      2\u001b[0m \u001b[0mpath\u001b[0m\u001b[0;34m.\u001b[0m\u001b[0mls\u001b[0m\u001b[0;34m(\u001b[0m\u001b[0;34m)\u001b[0m\u001b[0;34m\u001b[0m\u001b[0;34m\u001b[0m\u001b[0m\n",
      "\u001b[0;31mNameError\u001b[0m: name 'untar_data' is not defined"
     ]
    }
   ],
   "source": [
    "path = untar_data(URLs.CAMVID)\n",
    "path.ls()"
   ]
  },
  {
   "cell_type": "code",
   "execution_count": null,
   "metadata": {},
   "outputs": [],
   "source": [
    "path_lbl = path/'labels'\n",
    "path_img = path/'images'"
   ]
  },
  {
   "cell_type": "code",
   "execution_count": null,
   "metadata": {},
   "outputs": [],
   "source": [
    "fnames = get_image_files(path_img)\n",
    "fnames[:3]"
   ]
  },
  {
   "cell_type": "code",
   "execution_count": null,
   "metadata": {},
   "outputs": [],
   "source": []
  },
  {
   "cell_type": "code",
   "execution_count": null,
   "metadata": {},
   "outputs": [],
   "source": []
  },
  {
   "cell_type": "code",
   "execution_count": null,
   "metadata": {},
   "outputs": [],
   "source": []
  },
  {
   "cell_type": "code",
   "execution_count": null,
   "metadata": {},
   "outputs": [],
   "source": []
  },
  {
   "cell_type": "code",
   "execution_count": null,
   "metadata": {},
   "outputs": [],
   "source": []
  },
  {
   "cell_type": "code",
   "execution_count": null,
   "metadata": {},
   "outputs": [],
   "source": []
  },
  {
   "cell_type": "code",
   "execution_count": null,
   "metadata": {},
   "outputs": [],
   "source": []
  }
 ],
 "metadata": {
  "kernelspec": {
   "display_name": "Python [conda env:fastai-please-work]",
   "language": "python",
   "name": "conda-env-fastai-please-work-py"
  },
  "language_info": {
   "codemirror_mode": {
    "name": "ipython",
    "version": 3
   },
   "file_extension": ".py",
   "mimetype": "text/x-python",
   "name": "python",
   "nbconvert_exporter": "python",
   "pygments_lexer": "ipython3",
   "version": "3.6.8"
  }
 },
 "nbformat": 4,
 "nbformat_minor": 2
}
